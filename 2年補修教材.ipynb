{
  "nbformat": 4,
  "nbformat_minor": 0,
  "metadata": {
    "colab": {
      "provenance": [],
      "authorship_tag": "ABX9TyOFrbcNp4wE63wYbbmBiUPk",
      "include_colab_link": true
    },
    "kernelspec": {
      "name": "python3",
      "display_name": "Python 3"
    },
    "language_info": {
      "name": "python"
    }
  },
  "cells": [
    {
      "cell_type": "markdown",
      "metadata": {
        "id": "view-in-github",
        "colab_type": "text"
      },
      "source": [
        "<a href=\"https://colab.research.google.com/github/b2210320/primnnew/blob/main/2%E5%B9%B4%E8%A3%9C%E4%BF%AE%E6%95%99%E6%9D%90.ipynb\" target=\"_parent\"><img src=\"https://colab.research.google.com/assets/colab-badge.svg\" alt=\"Open In Colab\"/></a>"
      ]
    },
    {
      "cell_type": "code",
      "execution_count": null,
      "metadata": {
        "colab": {
          "base_uri": "https://localhost:8080/"
        },
        "id": "yAF5-8ffZE92",
        "outputId": "be92fe98-219c-441c-c83a-a46f90fb9296"
      },
      "outputs": [
        {
          "output_type": "stream",
          "name": "stdout",
          "text": [
            "<class 'str'>\n",
            "<class 'str'>\n",
            "<class 'int'>\n",
            "<class 'str'>\n",
            "<class 'str'>\n",
            "<class 'int'>\n"
          ]
        }
      ],
      "source": [
        "name = \"Chitose\"\n",
        "number = \"b1998040\"\n",
        "age = 25 \n",
        "\n",
        "print(type(name))\n",
        "print(type(number))\n",
        "print(type(age))\n",
        "\n",
        "name = \"Chitose\"\n",
        "number = \"b1998040\"\n",
        "age = 25\n",
        "\n",
        "print(type(name))\n",
        "print(type(number))\n",
        "print(type(age))         "
      ]
    },
    {
      "cell_type": "code",
      "source": [
        "student_number = 2210320\n",
        "print(\"b\"+str(student_number)+\"伊原正悟\")\n",
        "print(\"b\",end=\"\")\n",
        "print(student_number,end=\"\")\n",
        "print(\"伊原正悟\")\n",
        "print(f\"b{student_number}伊原正悟\")\n"
      ],
      "metadata": {
        "colab": {
          "base_uri": "https://localhost:8080/"
        },
        "id": "6MuC5cw2cGmu",
        "outputId": "41463dc1-5801-4554-cfcf-fd3cae297d42"
      },
      "execution_count": null,
      "outputs": [
        {
          "output_type": "stream",
          "name": "stdout",
          "text": [
            "b2210320伊原正悟\n",
            "b2210320伊原正悟\n",
            "b2210320伊原正悟\n"
          ]
        }
      ]
    },
    {
      "cell_type": "code",
      "source": [
        "import random\n",
        "a = random.randrange(10,2800,10)\n",
        "print(\"b\"+str(a+2220000)+\"伊原正悟\")"
      ],
      "metadata": {
        "colab": {
          "base_uri": "https://localhost:8080/"
        },
        "id": "xjdP5VDfeM9C",
        "outputId": "b10a099a-f038-4816-b535-25bb85317a73"
      },
      "execution_count": null,
      "outputs": [
        {
          "output_type": "stream",
          "name": "stdout",
          "text": [
            "b2220190伊原正悟\n"
          ]
        }
      ]
    },
    {
      "cell_type": "code",
      "source": [
        "name = \"Chitose\"\n",
        "age = 25\n",
        "\n",
        "print(f\"{name}さんの年齢は {age}歳 です \")\n",
        "print(f\"4年後は {age+4}歳 です\")\n",
        "\n",
        "print(f\"{name}さんは{age}歳です\")\n",
        "print(f\"4年後は{age+4}歳です\")"
      ],
      "metadata": {
        "colab": {
          "base_uri": "https://localhost:8080/"
        },
        "id": "WHCm8eooZwVC",
        "outputId": "6072863d-380b-42c4-d948-a210a7a1c07f"
      },
      "execution_count": null,
      "outputs": [
        {
          "output_type": "stream",
          "name": "stdout",
          "text": [
            "Chitoseさんの年齢は 25歳 です \n",
            "4年後は 29歳 です\n",
            "Chitoseさんは25歳です\n",
            "4年後は29歳です\n"
          ]
        }
      ]
    },
    {
      "cell_type": "code",
      "source": [
        "name = \"Chitose\"\n",
        "\n",
        "print(\"年齢を入力してください\")\n",
        "age = input()  # 入力するよう促されます\n",
        "\n",
        "print(f\"{name}さんの年齢は {age}歳 です \")\n",
        "print(f\"4年後は {int(age)+4}歳 です\")\n",
        "\n",
        "age = input()\n",
        "\n",
        "print(f\"{name}さんの年齢は{age}歳です\")\n",
        "print(f\"2年後は{int(age)+2}歳です\")"
      ],
      "metadata": {
        "colab": {
          "base_uri": "https://localhost:8080/"
        },
        "id": "-W8JYhrsaeti",
        "outputId": "27236d6c-992f-4214-aaeb-6919f79a167f"
      },
      "execution_count": null,
      "outputs": [
        {
          "output_type": "stream",
          "name": "stdout",
          "text": [
            "年齢を入力してください\n",
            "1\n",
            "Chitoseさんの年齢は 1歳 です \n",
            "4年後は 5歳 です\n",
            "2\n",
            "Chitoseさんの年齢は2歳です\n",
            "2年後は4歳です\n"
          ]
        }
      ]
    },
    {
      "cell_type": "code",
      "source": [
        "n = int(input('ピラミッドの段数を入力してください。'))\n",
        "for i in range(1, n+1):\n",
        "    print(' ' * (n-i) + '*' * (2*i-1))"
      ],
      "metadata": {
        "colab": {
          "base_uri": "https://localhost:8080/"
        },
        "id": "_ujLcet2yvab",
        "outputId": "9b71cdf3-5a76-46c2-ca40-26b9cee71b7c"
      },
      "execution_count": null,
      "outputs": [
        {
          "output_type": "stream",
          "name": "stdout",
          "text": [
            "ピラミッドの段数を入力してください。4\n",
            "   *\n",
            "  ***\n",
            " *****\n",
            "*******\n"
          ]
        }
      ]
    },
    {
      "cell_type": "code",
      "source": [
        "n = int(input(\"中央までの段数を入力してください\"))  # ひし形の幅\n",
        "for i in range(1, n+1): #ひし形の上半分を出力する\n",
        "    for j in range(1, n-i+1): #ひし形の左側に空白を入れるためnからiを引いた数だけ空白を出力\n",
        "        print(\" \", end=\"\")\n",
        "    for k in range(1, i+1): #ひし形の初段から半分の段までにピラミッド型アスタリスクが左側に並ぶ\n",
        "        print(\"*\", end=\"\")\n",
        "    for l in range(i-1, 0, -1): #2つ目のforループで出力したアスタリスクのうち、最後の1つを除くアスタリスクを逆順に出力する、右側にピラミッド型アスタリスクが並ぶ\n",
        "        print(\"*\", end=\"\")\n",
        "    print()\n",
        "\n",
        "for i in range(n-1, 0, -1): #ひし形の下半分を出力する\n",
        "   for j in range(1, n-i+1):\n",
        "       print(\" \", end=\"\")\n",
        "   for k in range(1, i+1):\n",
        "       print(\"*\", end=\"\")\n",
        "   for l in range(i-1, 0, -1):\n",
        "       print(\"*\", end=\"\")\n",
        "   print()"
      ],
      "metadata": {
        "colab": {
          "base_uri": "https://localhost:8080/"
        },
        "id": "GXZkqUf9yuzA",
        "outputId": "eb486924-450f-4a20-e467-d7ff7d020d20"
      },
      "execution_count": null,
      "outputs": [
        {
          "output_type": "stream",
          "name": "stdout",
          "text": [
            "中央までの段数を入力してください3\n",
            "  *\n",
            " ***\n",
            "*****\n",
            " ***\n",
            "  *\n"
          ]
        }
      ]
    },
    {
      "cell_type": "code",
      "source": [],
      "metadata": {
        "id": "c34JI4zqq6g6"
      },
      "execution_count": null,
      "outputs": []
    },
    {
      "cell_type": "code",
      "source": [
        "n = int(input(\"ひし形のサイズを入力してください: \"))\n",
        "for i in range(1,n):\n",
        "    for j in range(1,n-i+1): #frange文は(初めの数,最後の数+1,前の数と次の数の間の数)\n",
        "      print(\" \" , end=\"\")  \n",
        "    for j in range(1,2*i,1):\n",
        "      print(\"1\", end=\"\")\n",
        "    for j in range(1,2*n-2*i,1): \n",
        "      print(\" \", end=\"\")\n",
        "    for j in range(1,2*i,1):\n",
        "      print(\"2\", end=\"\")  \n",
        "    for j in range(1,n-i+1,1):\n",
        "      print(\" \", end=\"\")\n",
        "    print()                  #区切りの数\n",
        "    \n",
        "for i in range(1,4*n-2,1):    \n",
        "      print(\"3\", end=\"\")\n",
        "print()      \n",
        "  \n",
        "for i in range(n-1,0,-1):\n",
        "    for j in range(1,n-i+1,1):\n",
        "      print(\" \", end=\"\")\n",
        "    for j in range(1,2*i,1):\n",
        "      print(\"4\", end=\"\")\n",
        "    for j in range(1,2*n-2*i,1):\n",
        "      print(\" \", end=\"\")\n",
        "    for j in range(1,2*i,1):\n",
        "      print(\"5\", end=\"\")  \n",
        "    for j in range(1,n-i+1,1):\n",
        "      print(\" \", end=\"\")  \n",
        "    print()\n"
      ],
      "metadata": {
        "colab": {
          "base_uri": "https://localhost:8080/"
        },
        "id": "jrUEiPYeremQ",
        "outputId": "af7738d5-0815-432a-cd2d-c864bb5ebd22"
      },
      "execution_count": null,
      "outputs": [
        {
          "output_type": "stream",
          "name": "stdout",
          "text": [
            "ひし形のサイズを入力してください: 4\n",
            "   1     2   \n",
            "  111   222  \n",
            " 11111 22222 \n",
            "3333333333333\n",
            " 44444 55555 \n",
            "  444   555  \n",
            "   4     5   \n"
          ]
        }
      ]
    },
    {
      "cell_type": "code",
      "source": [],
      "metadata": {
        "id": "I--Y7xXzs4dY"
      },
      "execution_count": null,
      "outputs": []
    },
    {
      "cell_type": "code",
      "source": [
        "n = int(input(\"ひし形のサイズを入力してください: \"))\n",
        "for i in range(1,n):\n",
        "    for j in range(1,n-i+1): #frange文は(初めの数,最後の数+1,前の数と次の数の間の数)\n",
        "      print(\" \" , end=\"\")  \n",
        "    for j in range(1,2*i,1):\n",
        "      print(\"1\", end=\"\")\n",
        "    for j in range(1,2*n-2*i,1): \n",
        "      print(\" \", end=\"\")\n",
        "    for j in range(1,2*i,1):\n",
        "      print(\"2\", end=\"\")  \n",
        "    for j in range(1,n-i+1,1):\n",
        "      print(\" \", end=\"\")\n",
        "    print()                  #区切りの数\n",
        "    \n",
        "for i in range(1,4*n-2,1):    \n",
        "      print(\"3\", end=\"\")\n",
        "print()      \n",
        "  \n",
        "for i in range(n-1,0,-1):\n",
        "    for j in range(1,n-i+1,1):\n",
        "      print(\" \", end=\"\")\n",
        "    for j in range(1,2*i,1):\n",
        "      print(\"4\", end=\"\")\n",
        "    for j in range(1,2*n-2*i,1):\n",
        "      print(\" \", end=\"\")\n",
        "    for j in range(1,2*i,1):\n",
        "      print(\"5\", end=\"\")  \n",
        "    for j in range(1,n-i+1,1):\n",
        "      print(\" \", end=\"\")  \n",
        "    print()\n",
        "\n",
        "for i in range(2,n):\n",
        "    for j in range(1,n-i+1): #frange文は(初めの数,最後の数+1,前の数と次の数の間の数)\n",
        "      print(\" \" , end=\"\")  \n",
        "    for j in range(1,2*i,1):\n",
        "      print(\"6\", end=\"\")\n",
        "    for j in range(1,2*n-2*i,1): \n",
        "      print(\" \", end=\"\")\n",
        "    for j in range(1,2*i,1):\n",
        "      print(\"7\", end=\"\")  \n",
        "    for j in range(1,n-i+1,1):\n",
        "      print(\" \", end=\"\")\n",
        "    print()                  #区切りの数\n",
        "    \n",
        "for i in range(1,4*n-2,1):    \n",
        "      print(\"8\", end=\"\")\n",
        "print()      \n",
        "  \n",
        "for i in range(n-1,0,-1):\n",
        "    for j in range(1,n-i+1,1):\n",
        "      print(\" \", end=\"\")\n",
        "    for j in range(1,2*i,1):\n",
        "      print(\"9\", end=\"\")\n",
        "    for j in range(1,2*n-2*i,1):\n",
        "      print(\" \", end=\"\")\n",
        "    for j in range(1,2*i,1):\n",
        "      print(\"0\", end=\"\")  \n",
        "    for j in range(1,n-i+1,1):\n",
        "      print(\" \", end=\"\")  \n",
        "    print()\n"
      ],
      "metadata": {
        "colab": {
          "base_uri": "https://localhost:8080/"
        },
        "outputId": "ad4bd112-e33f-45d2-944d-c20a8e88971b",
        "id": "i_El7gaftKJy"
      },
      "execution_count": null,
      "outputs": [
        {
          "output_type": "stream",
          "name": "stdout",
          "text": [
            "ひし形のサイズを入力してください: 4\n",
            "   1     2   \n",
            "  111   222  \n",
            " 11111 22222 \n",
            "3333333333333\n",
            " 44444 55555 \n",
            "  444   555  \n",
            "   4     5   \n",
            "  666   777  \n",
            " 66666 77777 \n",
            "8888888888888\n",
            " 99999 00000 \n",
            "  999   000  \n",
            "   9     0   \n"
          ]
        }
      ]
    },
    {
      "cell_type": "code",
      "source": [
        "# datetimeモジュールのdatetimeクラスを取り込む\n",
        "from datetime import datetime\n",
        "# 地名に\"東京\"を指定するためにインポート\n",
        "from pytz import timezone\n",
        "# 東京の時間を取得\n",
        "today = datetime.now(timezone(\"Asia/Tokyo\"))\n",
        "if today.hour >=3 and today.hour <10 :\n",
        "  print(\"おはよう\")\n",
        "elif today.hour >=10 and today.hour <18 :\n",
        "  print(\"こんにちは\")\n",
        "elif today.hour >=18 and today.hour <22 :\n",
        "  print(\"こんばんは\")\n",
        "elif today.hour >=22 and today.hour <3 :\n",
        "  print(\"おやすみ\")\n",
        "else :\n",
        "  print(\"zzzz\")\n"
      ],
      "metadata": {
        "colab": {
          "base_uri": "https://localhost:8080/"
        },
        "id": "lxJqcE8_yF1t",
        "outputId": "bd34d44e-50f5-4b3d-d863-40110f31c9da"
      },
      "execution_count": null,
      "outputs": [
        {
          "output_type": "stream",
          "name": "stdout",
          "text": [
            "こんにちは\n"
          ]
        }
      ]
    },
    {
      "cell_type": "code",
      "source": [
        "# datetimeモジュールのdatetimeクラスを取り込む\n",
        "from datetime import datetime\n",
        "# 地名に\"東京\"を指定するためにインポート\n",
        "from pytz import timezone\n",
        "# 東京の時間を取得\n",
        "today = datetime.now(timezone(\"Asia/Tokyo\"))\n",
        "if today.month >=3 and today.month <6 :\n",
        "  print(\"春です！\")\n",
        "elif today.month >=6 and today.month <9 :\n",
        "  print(\"夏です！\")\n",
        "elif today.month >=9 and today.month <12 :\n",
        "  print(\"秋です！\")\n",
        "elif today.month ==12 or today.month <3 :\n",
        "  print(\"冬です！\")\n",
        "else :\n",
        "  print(\"zzzz\")\n"
      ],
      "metadata": {
        "colab": {
          "base_uri": "https://localhost:8080/"
        },
        "id": "uFMwM5MZzvkN",
        "outputId": "d96f9b03-7057-4284-807e-5aa76a89ae51"
      },
      "execution_count": null,
      "outputs": [
        {
          "output_type": "stream",
          "name": "stdout",
          "text": [
            "春です！\n"
          ]
        }
      ]
    },
    {
      "cell_type": "code",
      "source": [
        "birth_year = int(input(\"誕生年:\"))\n",
        "birth_month = int(input(\"誕生月:\"))\n",
        "birth_day = int(input(\"誕生の日:\"))\n",
        "\n",
        "birth = datetime(year=birth_year , month=birth_month , day=birth_day)  # 新しく生成\n",
        "birth = birth.astimezone(timezone(\"Asia/Tokyo\"))  # 比較する関係で必要\n",
        "today = datetime.now(timezone(\"Asia/Tokyo\"))\n",
        "age = (today.year - birth_year)\n",
        "print(\"{}歳です\".format(age))     "
      ],
      "metadata": {
        "colab": {
          "base_uri": "https://localhost:8080/"
        },
        "id": "0Q70mBZv0pCz",
        "outputId": "c315bf50-aa2f-4e75-941b-df23252730d5"
      },
      "execution_count": null,
      "outputs": [
        {
          "output_type": "stream",
          "name": "stdout",
          "text": [
            "誕生年:1998\n",
            "誕生月:4\n",
            "誕生の日:1\n",
            "25歳です\n"
          ]
        }
      ]
    },
    {
      "cell_type": "code",
      "source": [
        "import random\n",
        "list = []\n",
        "for i in range(1,6):\n",
        "  num = 2220000 + random.randrange(10,2810,10)\n",
        "  num2 = \"b\" + str(num)\n",
        "  list.append(num2) \n",
        "print(list)"
      ],
      "metadata": {
        "colab": {
          "base_uri": "https://localhost:8080/"
        },
        "id": "pwPPUAmh80br",
        "outputId": "73dcdf37-4922-4aa3-f195-780dfb25ab9b"
      },
      "execution_count": null,
      "outputs": [
        {
          "output_type": "stream",
          "name": "stdout",
          "text": [
            "['b2221880', 'b2220970', 'b2220900', 'b2220760', 'b2221320']\n"
          ]
        }
      ]
    },
    {
      "cell_type": "code",
      "source": [
        "import random\n",
        "list1 = []\n",
        "list2 = []\n",
        "list3 = []\n",
        "for i in range(1,6):\n",
        "  num1 =  random.randrange(1,10)\n",
        "  num2 =  random.randrange(1,10)\n",
        "  list1.append(num1)\n",
        "  list2.append(num2)\n",
        "  num3 = num1 + num2 \n",
        "  list3.append(num3)\n",
        "print(list1)\n",
        "print(list2) \n",
        "print(list3)"
      ],
      "metadata": {
        "colab": {
          "base_uri": "https://localhost:8080/"
        },
        "id": "KtRxwlUcACgF",
        "outputId": "b4a0d958-63b3-4792-d2a1-30a3bdadf17c"
      },
      "execution_count": null,
      "outputs": [
        {
          "output_type": "stream",
          "name": "stdout",
          "text": [
            "[9, 6, 9, 2, 3]\n",
            "[2, 6, 1, 8, 9]\n",
            "[11, 12, 10, 10, 12]\n"
          ]
        }
      ]
    },
    {
      "cell_type": "code",
      "source": [
        "import random\n",
        "todohuken_list = [\n",
        "    '北海道', '青森県', '岩手県', '宮城県', '秋田県', '山形県', '福島県', '茨城県', '栃木県', '群馬県', \n",
        "    '埼玉県', '千葉県', '東京都', '神奈川県', '新潟県', '富山県', '石川県', '福井県', '山梨県', '長野県', \n",
        "    '岐阜県', '静岡県', '愛知県', '三重県', '滋賀県', '京都府', '大阪府', '兵庫県', '奈良県', '和歌山県', \n",
        "    '鳥取県', '島根県', '岡山県', '広島県', '山口県', '徳島県', '香川県', '愛媛県', '高知県',  '福岡県', \n",
        "    '佐賀県', '長崎県', '熊本県', '大分県', '宮崎県', '鹿児島県', '沖縄県',\n",
        "]\n",
        "\n",
        "random.shuffle(todohuken_list) #初めにリストをランダムにする\n",
        "sublists = []\n",
        "for i in range(0, len(todohuken_list), 4) :\n",
        "  sublists = [todohuken_list[i:i+4] ] #新しいリストに古いリストを4つずつだしてそれを分割する\n",
        "\n",
        "print(sublists)"
      ],
      "metadata": {
        "colab": {
          "base_uri": "https://localhost:8080/"
        },
        "id": "wtNX68s5Anwv",
        "outputId": "6975328f-2146-40b2-ce98-c08508d1dca4"
      },
      "execution_count": null,
      "outputs": [
        {
          "output_type": "stream",
          "name": "stdout",
          "text": [
            "[['広島県', '千葉県', '秋田県', '兵庫県'], ['奈良県', '熊本県', '和歌山県', '高知県'], ['鹿児島県', '富山県', '神奈川県', '山形県'], ['宮城県', '滋賀県', '岐阜県', '宮崎県'], ['島根県', '岩手県', '福岡県', '鳥取県'], ['茨城県', '長野県', '三重県', '東京都'], ['佐賀県', '山口県', '北海道', '埼玉県'], ['愛知県', '福井県', '岡山県', '徳島県'], ['山梨県', '愛媛県', '沖縄県', '青森県'], ['群馬県', '栃木県', '福島県', '石川県'], ['静岡県', '京都府', '大分県', '新潟県'], ['長崎県', '大阪府', '香川県']]\n"
          ]
        }
      ]
    },
    {
      "cell_type": "code",
      "source": [
        "university_list = [\n",
        "    \"Chitose,25\",\n",
        "    \"Hokudai,105\",\n",
        "    \"Muroran,74\",\n",
        "    \"Hakodate,23\",\n",
        "]\n",
        "university_list.split(\",\")[1]\n",
        "\n",
        "print(university_list)\n",
        "new_list = sorted(university_list, key=age)\n",
        "print(new_list)"
      ],
      "metadata": {
        "colab": {
          "base_uri": "https://localhost:8080/",
          "height": 240
        },
        "id": "6d4Qfqb5DJOS",
        "outputId": "f57269d8-a9fd-428d-8447-3c60a1a8d712"
      },
      "execution_count": null,
      "outputs": [
        {
          "output_type": "error",
          "ename": "AttributeError",
          "evalue": "ignored",
          "traceback": [
            "\u001b[0;31m---------------------------------------------------------------------------\u001b[0m",
            "\u001b[0;31mAttributeError\u001b[0m                            Traceback (most recent call last)",
            "\u001b[0;32m<ipython-input-53-1505e99e9ae1>\u001b[0m in \u001b[0;36m<cell line: 7>\u001b[0;34m()\u001b[0m\n\u001b[1;32m      5\u001b[0m     \u001b[0;34m\"Hakodate,23\"\u001b[0m\u001b[0;34m,\u001b[0m\u001b[0;34m\u001b[0m\u001b[0;34m\u001b[0m\u001b[0m\n\u001b[1;32m      6\u001b[0m ]\n\u001b[0;32m----> 7\u001b[0;31m \u001b[0muniversity_list\u001b[0m\u001b[0;34m.\u001b[0m\u001b[0msplit\u001b[0m\u001b[0;34m(\u001b[0m\u001b[0;34m\",\"\u001b[0m\u001b[0;34m)\u001b[0m\u001b[0;34m[\u001b[0m\u001b[0;36m1\u001b[0m\u001b[0;34m]\u001b[0m\u001b[0;34m\u001b[0m\u001b[0;34m\u001b[0m\u001b[0m\n\u001b[0m\u001b[1;32m      8\u001b[0m \u001b[0;34m\u001b[0m\u001b[0m\n\u001b[1;32m      9\u001b[0m \u001b[0mprint\u001b[0m\u001b[0;34m(\u001b[0m\u001b[0muniversity_list\u001b[0m\u001b[0;34m)\u001b[0m\u001b[0;34m\u001b[0m\u001b[0;34m\u001b[0m\u001b[0m\n",
            "\u001b[0;31mAttributeError\u001b[0m: 'list' object has no attribute 'split'"
          ]
        }
      ]
    },
    {
      "cell_type": "code",
      "source": [
        "university_list = [\n",
        "    \"Chitose,25\",\n",
        "    \"Hokudai,105\",\n",
        "    \"Muroran,74\",\n",
        "    \"Hakodate,23\",\n",
        "]\n",
        "\n",
        "sorted_list = sorted(university_list, key=lambda x: int(x.split(\",\")[1])) #lambdaは定義なしで作る関数\n",
        "\n",
        "print(sorted_list)"
      ],
      "metadata": {
        "colab": {
          "base_uri": "https://localhost:8080/"
        },
        "id": "5T2h1dqjHjPY",
        "outputId": "1cf251f7-cc66-4ca7-9bf7-61b53865c104"
      },
      "execution_count": null,
      "outputs": [
        {
          "output_type": "stream",
          "name": "stdout",
          "text": [
            "['Hakodate,23', 'Chitose,25', 'Muroran,74', 'Hokudai,105']\n"
          ]
        }
      ]
    },
    {
      "cell_type": "code",
      "source": [
        "N = int(input(\"数字を入力してください\"))\n",
        "for i in range(1,N+1,1) :\n",
        " if i == N :\n",
        "   print(i)\n",
        " else :\n",
        "   print(f\"{i},\",end=\"\")  \n",
        "\n",
        "FizzBuzz = N//15\n",
        "Fizz = (N//3) - FizzBuzz\n",
        "Buzz = N//5 - FizzBuzz\n",
        "others = N-(FizzBuzz+Fizz+Buzz)\n",
        "print(f\"FizzBuzzの数：{FizzBuzz}\") \n",
        "print(f\"Fizzの数：{Fizz}\") \n",
        "print(f\"Buzzの数：{Buzz}\")\n",
        "print(f\"othersの数：{others}\")"
      ],
      "metadata": {
        "colab": {
          "base_uri": "https://localhost:8080/"
        },
        "id": "Mu9ZR5JTIWCx",
        "outputId": "2b911890-b4cb-46c3-e191-569a483d233e"
      },
      "execution_count": null,
      "outputs": [
        {
          "output_type": "stream",
          "name": "stdout",
          "text": [
            "数字を入力してください100\n",
            "1,2,3,4,5,6,7,8,9,10,11,12,13,14,15,16,17,18,19,20,21,22,23,24,25,26,27,28,29,30,31,32,33,34,35,36,37,38,39,40,41,42,43,44,45,46,47,48,49,50,51,52,53,54,55,56,57,58,59,60,61,62,63,64,65,66,67,68,69,70,71,72,73,74,75,76,77,78,79,80,81,82,83,84,85,86,87,88,89,90,91,92,93,94,95,96,97,98,99,100\n",
            "FizzBuzzの数：6\n",
            "Fizzの数：27\n",
            "Buzzの数：14\n",
            "othersの数：53\n"
          ]
        }
      ]
    },
    {
      "cell_type": "code",
      "source": [
        "import string\n",
        "\n",
        "\n",
        "\n",
        "\n",
        "text = \"\"\"PPAP\n",
        "I have a pen.\n",
        "I have an apple.\n",
        "Apple pen！\n",
        "I have a pen.\n",
        "I have a pineapple.\n",
        "Pineapple pen！\n",
        "Apple pen.\n",
        "Pineapple pen.\n",
        "Pen-pineapple-Apple-pen！\"\"\"\n",
        "\n",
        "\n",
        "# 特殊文字を除去する\n",
        "test = text.translate(str.maketrans('', '', string.punctuation))\n",
        "\n",
        "# \"！\"を空文字に置き換える\n",
        "text = text.replace('！', '')\n",
        "# \"-\"を空白に置き換える\n",
        "text = text.replace('-', ' ')\n",
        "# 特殊文字を除去する\n",
        "text = text.translate(str.maketrans('', '', string.punctuation))\n",
        "\n",
        "# 単語を小文字に変換し、「改行・空白」で文字列を分割する\n",
        "text = text.lower().split()\n",
        "\n",
        "sorted_dic = word_count(text)\n",
        "print(sorted_dic)"
      ],
      "metadata": {
        "colab": {
          "base_uri": "https://localhost:8080/",
          "height": 222
        },
        "id": "w9CAYlRDvt2A",
        "outputId": "003dc668-16ea-49ca-e745-2f8d694ae9a8"
      },
      "execution_count": null,
      "outputs": [
        {
          "output_type": "error",
          "ename": "NameError",
          "evalue": "ignored",
          "traceback": [
            "\u001b[0;31m---------------------------------------------------------------------------\u001b[0m",
            "\u001b[0;31mNameError\u001b[0m                                 Traceback (most recent call last)",
            "\u001b[0;32m<ipython-input-1-4ecc22b81db6>\u001b[0m in \u001b[0;36m<cell line: 31>\u001b[0;34m()\u001b[0m\n\u001b[1;32m     29\u001b[0m \u001b[0mtext\u001b[0m \u001b[0;34m=\u001b[0m \u001b[0mtext\u001b[0m\u001b[0;34m.\u001b[0m\u001b[0mlower\u001b[0m\u001b[0;34m(\u001b[0m\u001b[0;34m)\u001b[0m\u001b[0;34m.\u001b[0m\u001b[0msplit\u001b[0m\u001b[0;34m(\u001b[0m\u001b[0;34m)\u001b[0m\u001b[0;34m\u001b[0m\u001b[0;34m\u001b[0m\u001b[0m\n\u001b[1;32m     30\u001b[0m \u001b[0;34m\u001b[0m\u001b[0m\n\u001b[0;32m---> 31\u001b[0;31m \u001b[0msorted_dic\u001b[0m \u001b[0;34m=\u001b[0m \u001b[0mword_count\u001b[0m\u001b[0;34m(\u001b[0m\u001b[0mtext\u001b[0m\u001b[0;34m)\u001b[0m\u001b[0;34m\u001b[0m\u001b[0;34m\u001b[0m\u001b[0m\n\u001b[0m\u001b[1;32m     32\u001b[0m \u001b[0mprint\u001b[0m\u001b[0;34m(\u001b[0m\u001b[0msorted_dic\u001b[0m\u001b[0;34m)\u001b[0m\u001b[0;34m\u001b[0m\u001b[0;34m\u001b[0m\u001b[0m\n",
            "\u001b[0;31mNameError\u001b[0m: name 'word_count' is not defined"
          ]
        }
      ]
    }
  ]
}